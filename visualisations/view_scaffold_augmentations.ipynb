{
 "cells": [
  {
   "cell_type": "code",
   "execution_count": 73,
   "metadata": {},
   "outputs": [],
   "source": [
    "from rdkit import Chem\n",
    "from rdkit.Chem.Draw import IPythonConsole\n",
    "from rdkit.Chem import rdDepictor\n",
    "from rdkit.Chem.Draw import rdMolDraw2D\n",
    "from IPython.display import SVG\n",
    "from copy import deepcopy\n",
    "import random\n",
    "from rdkit.Chem.Scaffolds.MurckoScaffold import MurckoScaffoldSmiles\n",
    "import csv\n",
    "import cairosvg"
   ]
  },
  {
   "cell_type": "markdown",
   "metadata": {},
   "source": [
    "# Download Dataset - Repeated Code"
   ]
  },
  {
   "cell_type": "code",
   "execution_count": 13,
   "metadata": {},
   "outputs": [],
   "source": [
    "PUBCHEM_DATASET_CONFIG = {\n",
    "    'bbbp': {'path': 'bbbp/BBBP.csv', 'task': 'clf', 'target_list': [\"p_np\"]},\n",
    "    'tox21': {'path': 'tox21/tox21.csv', 'task': 'clf', 'target_list': [\n",
    "            \"NR-AR\", \"NR-AR-LBD\", \"NR-AhR\", \"NR-Aromatase\", \"NR-ER\", \"NR-ER-LBD\", \n",
    "            \"NR-PPAR-gamma\", \"SR-ARE\", \"SR-ATAD5\", \"SR-HSE\", \"SR-MMP\", \"SR-p53\"\n",
    "        ]},\n",
    "    'clintox': {'path': 'clintox/clintox.csv', 'task': 'clf', 'target_list': ['CT_TOX', 'FDA_APPROVED']},\n",
    "    'hiv': {'path':'hiv/HIV.csv', 'task': 'clf', 'target_list': [\"HIV_active\"]},\n",
    "    'bace': {'path': 'bace/bace.csv', 'task': 'clf', 'target_list': [\"Class\"]},\n",
    "    'sider': {'path': 'sider/sider.csv', 'task': 'clf', 'target_list': [\n",
    "            \"Hepatobiliary disorders\", \"Metabolism and nutrition disorders\", \"Product issues\", \n",
    "            \"Eye disorders\", \"Investigations\", \"Musculoskeletal and connective tissue disorders\", \n",
    "            \"Gastrointestinal disorders\", \"Social circumstances\", \"Immune system disorders\", \n",
    "            \"Reproductive system and breast disorders\", \n",
    "            \"Neoplasms benign, malignant and unspecified (incl cysts and polyps)\", \n",
    "            \"General disorders and administration site conditions\", \"Endocrine disorders\", \n",
    "            \"Surgical and medical procedures\", \"Vascular disorders\", \n",
    "            \"Blood and lymphatic system disorders\", \"Skin and subcutaneous tissue disorders\", \n",
    "            \"Congenital, familial and genetic disorders\", \"Infections and infestations\", \n",
    "            \"Respiratory, thoracic and mediastinal disorders\", \"Psychiatric disorders\", \n",
    "            \"Renal and urinary disorders\", \"Pregnancy, puerperium and perinatal conditions\", \n",
    "            \"Ear and labyrinth disorders\", \"Cardiac disorders\", \n",
    "            \"Nervous system disorders\", \"Injury, poisoning and procedural complications\"\n",
    "        ]},\n",
    "    'muv': {'path': 'muv/muv.csv', 'task': 'clf', 'target_list': [\n",
    "            'MUV-692', 'MUV-689', 'MUV-846', 'MUV-859', 'MUV-644', 'MUV-548', 'MUV-852',\n",
    "            'MUV-600', 'MUV-810', 'MUV-712', 'MUV-737', 'MUV-858', 'MUV-713', 'MUV-733',\n",
    "            'MUV-652', 'MUV-466', 'MUV-832'\n",
    "        ]},\n",
    "    'freesolv': {'path': 'freesolv/freesolv.csv', 'task': 'reg', 'target_list': [\"expt\"]},\n",
    "    'esol': {'path': 'esol/esol.csv', 'task': 'reg', 'target_list': [\"measured log solubility in mols per litre\"]},\n",
    "    'lipo': {'path': 'lipophilicity/Lipophilicity.csv', 'task': 'reg', 'target_list': [\"exp\"]},\n",
    "    'qm7': {'path': 'qm7/qm7.csv', 'task': 'reg', 'target_list': [\"u0_atom\"]},\n",
    "    'qm8': {'path': 'qm8/qm8.csv', 'task': 'reg', 'target_list': [\n",
    "            \"E1-CC2\", \"E2-CC2\", \"f1-CC2\", \"f2-CC2\", \"E1-PBE0\", \"E2-PBE0\", \n",
    "            \"f1-PBE0\", \"f2-PBE0\", \"E1-CAM\", \"E2-CAM\", \"f1-CAM\",\"f2-CAM\"\n",
    "        ]},\n",
    "    'qm9': {'path': 'qm9/qm9.csv', 'task': 'reg', 'target_list': ['mu', 'alpha', 'homo', 'lumo', 'gap', 'r2', 'zpve', 'cv']}\n",
    "}"
   ]
  },
  {
   "cell_type": "code",
   "execution_count": 106,
   "metadata": {},
   "outputs": [],
   "source": [
    "def highlight_scaffold(smiles, dataset_name, index, size=(400,200)):\n",
    "    molecule = Chem.MolFromSmiles(smiles)\n",
    "    scaffold = Chem.MolFromSmiles(MurckoScaffoldSmiles(smiles))\n",
    "    drawer = rdMolDraw2D.MolDraw2DSVG(size[0], size[1])\n",
    "    match = molecule.GetSubstructMatch(scaffold)\n",
    "    drawer.DrawMolecule(molecule, highlightAtoms=match)\n",
    "    drawer.FinishDrawing()\n",
    "    svg = drawer.GetDrawingText().replace('svg:','')\n",
    "    cairosvg.svg2png(bytestring=svg, write_to=f'scaffold_images/{dataset_name}_{index}_scaffold.png', output_width=400, output_height=200)\n",
    "    return molecule\n"
   ]
  },
  {
   "cell_type": "code",
   "execution_count": 94,
   "metadata": {},
   "outputs": [],
   "source": [
    "def get_random_smiles_from_dataset(dataset_name):\n",
    "    pubchem_path = '/home/ks877/L45Project/SSLMolAug/datasets/pre_training/pubchem/'\n",
    "    csv_path = f\"{pubchem_path}{PUBCHEM_DATASET_CONFIG[dataset_name]['path']}\"\n",
    "    smiles_data, _ = read_smiles(dataset_name, csv_path)\n",
    "    random_idx = random.randint(0, len(smiles_data))\n",
    "    print(f'from {dataset_name} dataset, sample {random_idx}')\n",
    "    smiles = smiles_data[random_idx]\n",
    "    return smiles, random_idx"
   ]
  },
  {
   "cell_type": "code",
   "execution_count": 110,
   "metadata": {},
   "outputs": [
    {
     "name": "stdout",
     "output_type": "stream",
     "text": [
      "from bbbp dataset, sample 847\n"
     ]
    },
    {
     "data": {
      "image/png": "[encoded data removed]",
      "text/plain": [
       "<rdkit.Chem.rdchem.Mol at 0x7f30cb57f700>"
      ]
     },
     "execution_count": 110,
     "metadata": {},
     "output_type": "execute_result"
    }
   ],
   "source": [
    "dataset_name = 'bbbp'\n",
    "smiles, random_idx = get_random_smiles_from_dataset(dataset_name)\n",
    "highlight_scaffold(smiles, dataset_name, random_idx)"
   ]
  },
  {
   "cell_type": "code",
   "execution_count": null,
   "metadata": {},
   "outputs": [],
   "source": []
  }
 ],
 "metadata": {
  "interpreter": {
   "hash": "4045c2050b12487d421a6446ef393fd4ee6b435943fecb4825b423d98bd7958a"
  },
  "kernelspec": {
   "display_name": "Python 3.8.12 ('masif')",
   "language": "python",
   "name": "python3"
  },
  "language_info": {
   "codemirror_mode": {
    "name": "ipython",
    "version": 3
   },
   "file_extension": ".py",
   "mimetype": "text/x-python",
   "name": "python",
   "nbconvert_exporter": "python",
   "pygments_lexer": "ipython3",
   "version": "3.8.12"
  },
  "orig_nbformat": 4
 },
 "nbformat": 4,
 "nbformat_minor": 2
}
